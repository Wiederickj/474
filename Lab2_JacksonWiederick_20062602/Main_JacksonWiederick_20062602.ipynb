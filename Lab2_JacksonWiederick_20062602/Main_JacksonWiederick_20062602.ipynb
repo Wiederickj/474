{
 "cells": [
  {
   "cell_type": "code",
   "execution_count": 1,
   "metadata": {},
   "outputs": [],
   "source": [
    "import cv2\n",
    "import matplotlib.pyplot as plt\n",
    "import numpy as np\n",
    "from math import sqrt\n",
    "from random import randint"
   ]
  },
  {
   "cell_type": "code",
   "execution_count": null,
   "metadata": {},
   "outputs": [],
   "source": [
    "def ColorComparing(blue1, green1, red1, blue2, green2, red2):\n",
    "    ColorComparing = sqrt( ((blue2 - blue1)**2) + ((green2- green1)**2) + ((red2 - red1)**2) ) \n",
    "    return ColorComparing"
   ]
  },
  {
   "cell_type": "code",
   "execution_count": 2,
   "metadata": {},
   "outputs": [],
   "source": [
    "def Vregions(image, CentersOfClusters):\n",
    "    V_regions = []\n",
    "    for i in range(len(CentersOfClusters)): #Use the center pixel as the first element in each V_Region array\n",
    "        V_region = []\n",
    "        V_region.append(CentersOfClusters[i])\n",
    "        V_regions.append(V_region)\n",
    "    for i in range(image.shape[0]):\n",
    "        for j in range(image.shape[1]): \n",
    "            OptimalPoint = []   #Find Optimial point by comparing min and max Color\n",
    "            MinimumColor = float('inf')\n",
    "            for V_Cluster in CentersOfClusters:\n",
    "                blue1, green1, red1 = image[i, j]\n",
    "                blue2,green2,red2= V_Cluster['RGB']\n",
    "                ColorRank = ColorComparing(blue1, green1, red1, blue2, green2, red2) #Get selected color\n",
    "                if(ColorRank < MinimumColor):\n",
    "                    MinimumColor = ColorRank\n",
    "                    OptimalPoint = V_Cluster\n",
    "            index = 0\n",
    "            for V_region in V_regions: #find optimal point for cluster\n",
    "                if(V_region[0]['idx'] == OptimalPoint['idx']):\n",
    "                    blue,green,red = image[i, j]\n",
    "                    V_regions[index].append({\n",
    "                        'RGB': (blue, green, red),\n",
    "                        'idx': (i,j)\n",
    "                    })\n",
    "                index += 1\n",
    "    return V_regions"
   ]
  },
  {
   "cell_type": "code",
   "execution_count": 3,
   "metadata": {},
   "outputs": [],
   "source": [
    "def KMeansAlgorithm(image, NumberOfClusters):\n",
    "    CentersOfClusters = []\n",
    "    Threshold = 30\n",
    "    for i in range(NumberOfClusters):\n",
    "        KMeansCluster = {}\n",
    "#Use random Values    \n",
    "        # def RandomPoints(image,k):\n",
    "#     RandomPoint = []\n",
    "#     c_RandomPoint = []\n",
    "#     for i in range(k):\n",
    "#         r = randint(0, image.shape[0])\n",
    "#         c = randint(0, image.shape[1])\n",
    "#         RandomPoint.append((r, c))\n",
    "#     for i in RandomPoint:\n",
    "#         blue,green,red = image[i]\n",
    "#         c_RandomPoint.append((blue,green,red))\n",
    "#     return c_RandomPoint\n",
    "        r = randint(0, image.shape[0] - 1) \n",
    "        c = randint(0, image.shape[1] - 1)\n",
    "        KMeansCluster['idx'] = (r, c)\n",
    "        blue,green,red = image[r, c]\n",
    "        KMeansCluster['RGB'] = (blue, green, red)\n",
    "        CentersOfClusters.append(KMeansCluster)\n",
    "    IsImageConverged = False #finising populating center of clusters\n",
    "    while not IsImageConverged:\n",
    "        KMeansRegions = Vregions(image, CentersOfClusters) #Outline V_Regions, then analyze\n",
    "        KMeansRegionsConverge = 0\n",
    "        KMeansColor = []\n",
    "        for KMeanRegion in KMeansRegions:\n",
    "            NumPixels = 0\n",
    "            blue = 0\n",
    "            green = 0 \n",
    "            red = 0\n",
    "            for PixelPostion in KMeanRegion: \n",
    "                blue += PixelPostion['RGB'][0]\n",
    "                green += PixelPostion['RGB'][1]\n",
    "                red += PixelPostion['RGB'][2]\n",
    "                NumPixels += 1\n",
    "            AvgBlue = blue // NumPixels\n",
    "            AvgGreen = green // NumPixels\n",
    "            AvgRed = red // NumPixels\n",
    "            KMeansColor.append((AvgBlue, AvgGreen, AvgRed))\n",
    "        for i in range(len(KMeansRegions)): #Converge the Regions\n",
    "            blue1,green1,red1 = KMeansColor[i]\n",
    "            blue2,green2,red2 = KMeansRegions[i][0]['RGB']\n",
    "            SimOfColor = ColorComparing(blue1, green1, red1, blue2, green2, red2)\n",
    "            if(SimOfColor < Threshold):\n",
    "                KMeansRegionsConverge += 1\n",
    "        if(KMeansRegionsConverge == len(KMeansRegions)): #Finish Converging\n",
    "            for i in range(len(KMeansRegions)):\n",
    "                for PixelPostion in KMeansRegions[i]:\n",
    "                    image[PixelPostion['idx']] = KMeansColor[i]\n",
    "            IsImageConverged = True\n",
    "        else: #Could not converge\n",
    "            for i in range(len(KMeansRegions)):\n",
    "                image[KMeansRegions[i][0]['idx']] = KMeansColor[i]\n",
    "                CentersOfClusters[i]['RGB'] = KMeansColor[i]\n",
    "    return image"
   ]
  },
  {
   "cell_type": "code",
   "execution_count": 4,
   "metadata": {},
   "outputs": [],
   "source": [
    "DisplayMessage = \"KMeans Clustering to Segment an Image\"\n",
    "def KMeansClustering(image): \n",
    "    temp_img = image.copy()\n",
    "    def KAlgorithm(k): \n",
    "        clustered = KMeansAlgorithm(temp_img, k)\n",
    "    def KMeansTrackbar():\n",
    "        cv2.namedWindow(DisplayMessage)\n",
    "        cv2.createTrackbar(\"K-Value\", DisplayMessage, 0, 25, KAlgorithm)\n",
    "        cv2.setTrackbarPos(\"K-Value\", DisplayMessage, 15) #Change starting trackbar value here\n",
    "        cv2.imshow(DisplayMessage, temp_img)   \n",
    "        cv2.waitKey(0)\n",
    "        cv2.destroyAllWindows()    \n",
    "    KMeansTrackbar()"
   ]
  },
  {
   "cell_type": "code",
   "execution_count": 5,
   "metadata": {},
   "outputs": [
    {
     "name": "stderr",
     "output_type": "stream",
     "text": [
      "<ipython-input-1-8fd1e948fec6>:8: RuntimeWarning: overflow encountered in ubyte_scalars\n",
      "  ColorComparing = sqrt( ((blue2 - blue1)**2) + ((green2- green1)**2) + ((red2 - red1)**2) )\n"
     ]
    }
   ],
   "source": [
    "BaseImage = cv2.imread('baboon.jpg')\n",
    "KMeansClustering(BaseImage)"
   ]
  },
  {
   "cell_type": "code",
   "execution_count": 5,
   "metadata": {},
   "outputs": [
    {
     "name": "stderr",
     "output_type": "stream",
     "text": [
      "<ipython-input-1-05c0f814c830>:20: RuntimeWarning: overflow encountered in ubyte_scalars\n",
      "  ColorComparing = sqrt( ((blue2 - blue1)**2) + ((green2- green1)**2) + ((red2 - red1)**2) )\n"
     ]
    }
   ],
   "source": [
    "BaseImage = cv2.imread('SAFlag.jpg')\n",
    "KMeansClustering(BaseImage)"
   ]
  },
  {
   "cell_type": "code",
   "execution_count": null,
   "metadata": {},
   "outputs": [],
   "source": []
  }
 ],
 "metadata": {
  "kernelspec": {
   "display_name": "Python 3",
   "language": "python",
   "name": "python3"
  },
  "language_info": {
   "codemirror_mode": {
    "name": "ipython",
    "version": 3
   },
   "file_extension": ".py",
   "mimetype": "text/x-python",
   "name": "python",
   "nbconvert_exporter": "python",
   "pygments_lexer": "ipython3",
   "version": "3.8.3"
  }
 },
 "nbformat": 4,
 "nbformat_minor": 4
}
