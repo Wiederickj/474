{
 "cells": [
  {
   "cell_type": "code",
   "execution_count": 1,
   "metadata": {},
   "outputs": [],
   "source": [
    "import cv2\n",
    "from matplotlib import pyplot as plt\n",
    "import numpy as np \n",
    "import random\n",
    "import math \n",
    "img = cv2.imread(\"baboon.png\")\n",
    "kylie = cv2.imread(\"kylie.jpg\")"
   ]
  },
  {
   "cell_type": "code",
   "execution_count": 2,
   "metadata": {},
   "outputs": [],
   "source": [
    "#I used the 8 neighours method to check and define the edges to fill. :Helped make this Func from github repository- https://github.com/nikndr/imageprocessing/blob/master/practice07.py"
   ]
  },
  {
   "cell_type": "code",
   "execution_count": 3,
   "metadata": {},
   "outputs": [],
   "source": [
    "\n",
    "def myfunc8N(x, y, shape):\n",
    "    out = []\n",
    "    maxx = shape[1]-1\n",
    "    maxy = shape[0]-1\n",
    "\n",
    "    #top left\n",
    "    outx = min(max(x-1,0),maxx)\n",
    "    outy = min(max(y-1,0),maxy)\n",
    "    out.append((outx,outy))\n",
    "\n",
    "    #top center\n",
    "    outx = x\n",
    "    outy = min(max(y-1,0),maxy)\n",
    "    out.append((outx,outy))\n",
    "\n",
    "    #top right\n",
    "    outx = min(max(x+1,0),maxx)\n",
    "    outy = min(max(y-1,0),maxy)\n",
    "    out.append((outx,outy))\n",
    "\n",
    "    #left\n",
    "    outx = min(max(x-1,0),maxx)\n",
    "    outy = y\n",
    "    out.append((outx,outy))\n",
    "\n",
    "    #right\n",
    "    outx = min(max(x+1,0),maxx)\n",
    "    outy = y\n",
    "    out.append((outx,outy))\n",
    "\n",
    "    #bottom left\n",
    "    outx = min(max(x-1,0),maxx)\n",
    "    outy = min(max(y+1,0),maxy)\n",
    "    out.append((outx,outy))\n",
    "\n",
    "    #bottom center\n",
    "    outx = x\n",
    "    outy = min(max(y+1,0),maxy)\n",
    "    out.append((outx,outy))\n",
    "\n",
    "    #bottom right\n",
    "    outx = min(max(x+1,0),maxx)\n",
    "    outy = min(max(y+1,0),maxy)\n",
    "    out.append((outx,outy))\n",
    "\n",
    "    return out"
   ]
  },
  {
   "cell_type": "code",
   "execution_count": 4,
   "metadata": {},
   "outputs": [],
   "source": [
    "def region_growing(img,threshold):\n",
    "    b,g,r = img[seed[0]]  #Return the color value: \n",
    "    visitedPix.append(seed[0]) #Move the seed to the visted pixels list\n",
    "    while len(seed) > 0:   #Go through the neighnours that exist within threshold\n",
    "        CurrPix = seed[0] #Set CurrPix to the start of the Stack\n",
    "        for i in myfunc8N(CurrPix[0], CurrPix[1], img.shape):  #Loop through all 8 neighnors of the CurrPix\n",
    "            bPix,gPix,rPix = img[i[0],i[1]] #Get the color values from the CurrPix\n",
    "            if abs(int(b) - int(bPix)) <= threshold and abs(int(g) - int(gPix)) <= threshold and abs(int(r) - int(rPix)) <= threshold:     #Change the color of the pixels that are within the homogeinity critera set. \n",
    "                img[i[0],i[1]] = [255,0,0] #Set Color to Blue\n",
    "                if not i in visitedPix: #All Pixs not visted add then to the seeds list\n",
    "                    seed.append(i)\n",
    "                visitedPix.append(i) #Add the Currpix to the visted list now\n",
    "        seed.pop(0)\n",
    "    cv2.imshow('Baboon', img)"
   ]
  },
  {
   "cell_type": "code",
   "execution_count": 5,
   "metadata": {},
   "outputs": [],
   "source": [
    "#The homogeneity criterion that was chosen for this project was getting the absolute values of the difference of Red pixels, green pixels and blue pixels then comparing them to the set threshold value to see how much to fill. Ie if the value of the threshold was less then the difference in pixels it would also then be added to get filled. "
   ]
  },
  {
   "cell_type": "code",
   "execution_count": 6,
   "metadata": {},
   "outputs": [],
   "source": [
    "def SetThresholdVal(val): \n",
    "    threshold = val"
   ]
  },
  {
   "cell_type": "code",
   "execution_count": 7,
   "metadata": {},
   "outputs": [],
   "source": [
    "def onMouse(event,x,y,flags, param): \n",
    "    if event == cv2.EVENT_LBUTTONDOWN:\n",
    "        seed.append((y,x))\n",
    "        #Manually Change Threshold here, Curr at 60\n",
    "        threshold = cv2.getTrackbarPos('Threshold', 'Baboon')\n",
    "        region_growing(img,threshold)   \n",
    "\n",
    "seed = []\n",
    "visitedPix = []\n",
    "cv2.namedWindow('Baboon')\n",
    "cv2.setMouseCallback('Baboon', onMouse)\n",
    "cv2.createTrackbar('Threshold','Baboon',0,255,SetThresholdVal)\n",
    "cv2.imshow('Baboon',img)\n",
    "cv2.waitKey(0)       \n",
    "cv2.destroyAllWindows()"
   ]
  },
  {
   "cell_type": "code",
   "execution_count": 8,
   "metadata": {},
   "outputs": [],
   "source": [
    "#Baboon image might open again, just click and it should switch to the other image of kylie \n",
    "def onMouse(event,x,y,flags, param): \n",
    "    if event == cv2.EVENT_LBUTTONDOWN:\n",
    "        seed.append((y,x))\n",
    "        #Manually Change Threshold here\n",
    "        threshold = cv2.getTrackbarPos('Threshold', 'Baboon')\n",
    "        region_growing(kylie,threshold)\n",
    "        \n",
    "\n",
    "seed = []\n",
    "visitedPix = []\n",
    "\n",
    "cv2.namedWindow('Baboon')\n",
    "cv2.setMouseCallback('Baboon', onMouse)\n",
    "cv2.createTrackbar('Threshold','Baboon',0,255,SetThresholdVal)\n",
    "cv2.imshow('Baboon',kylie)\n",
    "cv2.waitKey(0)       \n",
    "cv2.destroyAllWindows()"
   ]
  },
  {
   "cell_type": "code",
   "execution_count": null,
   "metadata": {},
   "outputs": [],
   "source": []
  }
 ],
 "metadata": {
  "kernelspec": {
   "display_name": "Python 3",
   "language": "python",
   "name": "python3"
  },
  "language_info": {
   "codemirror_mode": {
    "name": "ipython",
    "version": 3
   },
   "file_extension": ".py",
   "mimetype": "text/x-python",
   "name": "python",
   "nbconvert_exporter": "python",
   "pygments_lexer": "ipython3",
   "version": "3.8.3"
  }
 },
 "nbformat": 4,
 "nbformat_minor": 4
}
