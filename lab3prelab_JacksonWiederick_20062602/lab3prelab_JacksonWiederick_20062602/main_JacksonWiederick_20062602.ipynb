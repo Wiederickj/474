{
 "cells": [
  {
   "cell_type": "code",
   "execution_count": 6,
   "metadata": {},
   "outputs": [],
   "source": [
    "\n",
    "import cv2\n",
    "import numpy as np\n",
    "import matplotlib.pyplot as plt\n",
    "\n",
    "from math import sqrt \n",
    "\n",
    "im_array = [cv2.imread('lines.jpg', 0), cv2.imread('spiral.jpg', 0), cv2.imread('bowser.jpg', 0)]\n",
    "img = im_array[2]\n",
    "\n",
    "# global functions\n",
    "def gradient(x, y):\n",
    "    out = np.zeros((x.shape[0], x.shape[1]))\n",
    "    for i in range(x.shape[0]):\n",
    "        for j in range(x.shape[1]):\n",
    "            out[i, j] = sqrt(((np.mean(x[i, j]))**2) + ((np.mean(y[i, j]))**2))\n",
    "    return out\n",
    "\n",
    "def get_gradiant_img(src = img):\n",
    "    gaussian = cv2.GaussianBlur(src, (5, 5), cv2.BORDER_DEFAULT)\n",
    "    s_x = np.array([ [-1 , 0 , 1] , [-2 , 0 , 2] , [-1 , 0 , 1] ])\n",
    "    s_y = np.array([ [1 , 2 , 1] , [0 , 0 , 0] , [-1 , -2 , -1] ])\n",
    "    img_x = cv2.filter2D(gaussian, -1, s_x)\n",
    "    img_y = cv2.filter2D(gaussian, -1, s_y)\n",
    "    return gradient(img_x, img_y)\n",
    "\n",
    "def threshold_img(src, threshold):\n",
    "    out = np.zeros((src.shape[0], src.shape[1]))\n",
    "\n",
    "    for i in range(src.shape[0]):\n",
    "        for j in range(src.shape[1]):\n",
    "            if(src[i, j] > threshold):\n",
    "                out[i, j] = 1 #white\n",
    "            else: \n",
    "                out[i, j] = 0 #black\n",
    "    return out \n",
    "\n",
    "def get_canny_img(src, lower_thresh, upper_thresh):\n",
    "    return cv2.Canny(src, lower_thresh, upper_thresh)"
   ]
  },
  {
   "cell_type": "code",
   "execution_count": 7,
   "metadata": {},
   "outputs": [],
   "source": [
    "# trackbar version\n",
    "global canny, binary, lower_thresh, upper_thresh\n",
    "canny_window = 'canny edge detector'\n",
    "binary_window = 'binary edge detector'\n",
    "lower_thresh = 30\n",
    "upper_thresh = 70\n",
    "\n",
    "gradiant = get_gradiant_img()\n",
    "canny = img.copy()\n",
    "binary = img.copy()\n",
    "\n",
    "# Trackbar callback functions\n",
    "def canny_callback_low(t): \n",
    "    global canny, lower_thresh, upper_thresh\n",
    "    lower_thresh = t\n",
    "    update_canny()\n",
    "\n",
    "def canny_callback_high(t): \n",
    "    global canny, lower_thresh, upper_thresh\n",
    "    upper_thresh = t\n",
    "    update_canny()\n",
    "\n",
    "def update_canny():\n",
    "    global lower_thresh, upper_thresh\n",
    "    cv2.imshow(canny_window, get_canny_img(img, lower_thresh, upper_thresh))\n",
    "\n",
    "def binary_threshold_callback(t):\n",
    "    global binary\n",
    "    binary = threshold_img(gradiant, t)\n",
    "    update_binary()\n",
    "\n",
    "def update_binary():\n",
    "    global binary\n",
    "    cv2.imshow(binary_window, binary)\n",
    "\n",
    "cv2.namedWindow(canny_window)\n",
    "cv2.createTrackbar('lower threshold', canny_window, 0, 100, canny_callback_low)\n",
    "cv2.setTrackbarPos('lower threshold', canny_window, lower_thresh)\n",
    "cv2.createTrackbar('upper threshold', canny_window, 0, 100, canny_callback_high)\n",
    "cv2.setTrackbarPos('upper threshold', canny_window, upper_thresh)\n",
    "\n",
    "cv2.namedWindow(binary_window)\n",
    "cv2.createTrackbar('threshold', binary_window, 0, 50, binary_threshold_callback)\n",
    "cv2.setTrackbarPos('threshold', binary_window, 25)\n",
    "\n",
    "while True:\n",
    "    if cv2.waitKey():\n",
    "        cv2.destroyAllWindows()\n",
    "        break"
   ]
  },
  {
   "cell_type": "code",
   "execution_count": 8,
   "metadata": {},
   "outputs": [],
   "source": [
    "#Press Any key to see next image\n",
    "for src in im_array:\n",
    "        gradiant = get_gradiant_img(src)\n",
    "        thresh_img = threshold_img(gradiant, 50)\n",
    "        name = 'Thresholded Image, thresh = 50'\n",
    "        cv2.imshow(name, thresh_img)\n",
    "        cv2.waitKey(0)\n",
    "        cv2.destroyAllWindows()"
   ]
  },
  {
   "cell_type": "code",
   "execution_count": 10,
   "metadata": {},
   "outputs": [
    {
     "data": {
      "image/png": "[encoded data removed]",
      "text/plain": [
       "<Figure size 432x288 with 1 Axes>"
      ]
     },
     "metadata": {
      "needs_background": "light"
     },
     "output_type": "display_data"
    }
   ],
   "source": [
    "# Print comparison results\n",
    "def get_match_ratio(img1, img2):\n",
    "    edges1 = 0\n",
    "    edges2 = 0\n",
    "\n",
    "    # Loop through images\n",
    "    for i in range(img1.shape[0]):\n",
    "        for j in range(img1.shape[1]):\n",
    "            if(img1[i, j] > 0):\n",
    "                edges1 += 1\n",
    "            if(img2[i, j] > 0):\n",
    "                edges2 += 1\n",
    "\n",
    "    return (edges2 / edges1 if edges1 > edges2 else edges1/edges2)\n",
    "\n",
    "canny = get_canny_img(img, 20, 80)\n",
    "thresholds = [i for i in range(10, 200, 5)]\n",
    "comparison_results = []\n",
    "\n",
    "for thresh in thresholds:\n",
    "    binary = threshold_img(img, thresh)\n",
    "    comparison_results.append(get_match_ratio(canny, binary))\n",
    "\n",
    "plt.plot(thresholds, comparison_results)\n",
    "plt.xlabel('Thresholds')\n",
    "plt.ylabel('Accuracy')\n",
    "plt.title(\"Threshold value vs. Accuracy\")\n",
    "plt.show()"
   ]
  },
  {
   "cell_type": "code",
   "execution_count": null,
   "metadata": {},
   "outputs": [],
   "source": []
  }
 ],
 "metadata": {
  "kernelspec": {
   "display_name": "Python 3",
   "language": "python",
   "name": "python3"
  },
  "language_info": {
   "codemirror_mode": {
    "name": "ipython",
    "version": 3
   },
   "file_extension": ".py",
   "mimetype": "text/x-python",
   "name": "python",
   "nbconvert_exporter": "python",
   "pygments_lexer": "ipython3",
   "version": "3.8.3"
  }
 },
 "nbformat": 4,
 "nbformat_minor": 4
}
